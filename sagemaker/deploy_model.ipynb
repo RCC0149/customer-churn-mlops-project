{
 "cells": [
  {
   "cell_type": "code",
   "execution_count": null,
   "id": "e316e5b7-96ac-4111-9cd6-4f4721519ae5",
   "metadata": {},
   "outputs": [
    {
     "name": "stdout",
     "output_type": "stream",
     "text": [
      "sagemaker.config INFO - Not applying SDK defaults from location: /etc/xdg/sagemaker/config.yaml\n",
      "sagemaker.config INFO - Not applying SDK defaults from location: /home/studio-lab-user/.config/sagemaker/config.yaml\n",
      "-----------"
     ]
    }
   ],
   "source": [
    "import boto3\n",
    "import sagemaker\n",
    "from sagemaker.model import Model\n",
    "\n",
    "# --- SAGEMAKER SESSION ---\n",
    "boto_session = boto3.Session()\n",
    "sagemaker_session = sagemaker.Session(boto_session=boto_session)\n",
    "\n",
    "# Your SageMaker Execution Role\n",
    "role = \"arn:aws:iam::484870651621:role/service-role/AmazonSageMaker-ExecutionRole-20250823T143639\"\n",
    "\n",
    "# --- MODEL ARTIFACT (relative to notebooks/) ---\n",
    "model = Model(\n",
    "    model_data=\"s3://telco-churn-data-rcc/models/model.tar.gz\",\n",
    "    image_uri=sagemaker.image_uris.retrieve(\n",
    "        framework=\"sklearn\",\n",
    "        region=sagemaker_session.boto_region_name,\n",
    "        version=\"1.2-1\"  # should match scikit-learn version\n",
    "    ),\n",
    "    role=role,\n",
    "    sagemaker_session=sagemaker_session\n",
    ")\n",
    "\n",
    "# --- DEPLOY ---\n",
    "predictor = model.deploy(\n",
    "    initial_instance_count=1,\n",
    "    instance_type=\"ml.m5.large\",\n",
    "    endpoint_name=\"telco-churn-endpoint-v3\"\n",
    ")\n",
    "\n",
    "print(\"✅ Deployment initiated. Endpoint name: telco-churn-endpoint-v3\")\n"
   ]
  },
  {
   "cell_type": "code",
   "execution_count": null,
   "id": "587c944a-9839-49da-85d7-e8ddfa304c64",
   "metadata": {},
   "outputs": [],
   "source": []
  }
 ],
 "metadata": {
  "kernelspec": {
   "display_name": "sagemaker-distribution:Python",
   "language": "python",
   "name": "conda-env-sagemaker-distribution-py"
  },
  "language_info": {
   "codemirror_mode": {
    "name": "ipython",
    "version": 3
   },
   "file_extension": ".py",
   "mimetype": "text/x-python",
   "name": "python",
   "nbconvert_exporter": "python",
   "pygments_lexer": "ipython3",
   "version": "3.12.9"
  }
 },
 "nbformat": 4,
 "nbformat_minor": 5
}
