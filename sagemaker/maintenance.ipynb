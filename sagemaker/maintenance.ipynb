{
 "cells": [
  {
   "cell_type": "code",
   "execution_count": 2,
   "id": "62163c28-a9a1-4d1f-8f43-ddffadf6dbe1",
   "metadata": {},
   "outputs": [
    {
     "name": "stdout",
     "output_type": "stream",
     "text": [
      "✅ Deleted endpoint: telco-churn-endpoint-v3\n",
      "✅ Deleted endpoint config: telco-churn-endpoint-v3\n"
     ]
    }
   ],
   "source": [
    "import boto3\n",
    "\n",
    "region = \"us-east-2\"\n",
    "endpoint_name = \"telco-churn-endpoint-v3\"\n",
    "\n",
    "sm = boto3.client(\"sagemaker\", region_name=region)\n",
    "\n",
    "# Delete endpoint\n",
    "try:\n",
    "    sm.delete_endpoint(EndpointName=endpoint_name)\n",
    "    print(f\"✅ Deleted endpoint: {endpoint_name}\")\n",
    "except Exception as e:\n",
    "    print(f\"⚠️ Endpoint delete issue: {e}\")\n",
    "\n",
    "# Delete endpoint config\n",
    "try:\n",
    "    sm.delete_endpoint_config(EndpointConfigName=endpoint_name)\n",
    "    print(f\"✅ Deleted endpoint config: {endpoint_name}\")\n",
    "except Exception as e:\n",
    "    print(f\"⚠️ Endpoint config delete issue: {e}\")\n"
   ]
  },
  {
   "cell_type": "code",
   "execution_count": 3,
   "id": "1a7d8586-c872-435e-a94d-e7b32d8be21e",
   "metadata": {},
   "outputs": [
    {
     "name": "stdout",
     "output_type": "stream",
     "text": [
      "Log Stream Info:\n",
      " {\n",
      "    \"logStreams\": [\n",
      "        {\n",
      "            \"logStreamName\": \"AllTraffic/i-03069b578bd572554\",\n",
      "            \"creationTime\": 1756684893408,\n",
      "            \"firstEventTimestamp\": 1756684888335,\n",
      "            \"lastEventTimestamp\": 1756685631335,\n",
      "            \"lastIngestionTime\": 1756685631844,\n",
      "            \"uploadSequenceToken\": \"49039859642744165107625857414532809241215742770591431137\",\n",
      "            \"arn\": \"arn:aws:logs:us-east-2:484870651621:log-group:/aws/sagemaker/Endpoints/telco-churn-endpoint-v3:log-stream:AllTraffic/i-03069b578bd572554\",\n",
      "            \"storedBytes\": 0\n",
      "        }\n",
      "    ],\n",
      "    \"nextToken\": \"Kwfr0bfVKkYk4OrYazFRiXum2I0pXyV-62bCphD8wMCt87aMxamF9wESYg8F2jOaKaNpdpShUpjjL4q9M1S1d1w0pDBxkKuaqOA-qh0TOlbvnv3F7bEj3V83F0jhkd6N4LuKjg_FuM5ifbbDXx3-mkDJQW0W-XGrFJro1eeSKxEVGikFCNHpT-olsyHGbtxOJzPLqAAuoNjhTL66EKlSe6qSfEOth1TjiU8idqOfpfvUUcl4Z0b3Ash4Y_mp_kZ89dt-qH_R9tHIDxz3bI9fpKWiyTkAi_uZxP6TeBcsu2lFIb--kiSOqDUUR4TJUXFSgtTQ9LnEH6tQGuw8wKJcWMIE1T-WRbjgzOLT3tl8vssKu-_r2JK2tD9IkQdwbNbr1JAkFOaQ077i2wHFyWn_hSvDc0Swhv8B3_kVs0zq9qg\"\n",
      "}\n",
      "\n"
     ]
    }
   ],
   "source": [
    "import subprocess\n",
    "\n",
    "cmd_stream = [\n",
    "    \"aws\", \"logs\", \"describe-log-streams\",\n",
    "    \"--log-group-name\", f\"/aws/sagemaker/Endpoints/{endpoint_name}\",\n",
    "    \"--order-by\", \"LastEventTime\",\n",
    "    \"--descending\", \"--limit\", \"1\",\n",
    "    \"--region\", region\n",
    "]\n",
    "\n",
    "result = subprocess.run(cmd_stream, capture_output=True, text=True)\n",
    "print(\"Log Stream Info:\\n\", result.stdout)\n"
   ]
  },
  {
   "cell_type": "code",
   "execution_count": 4,
   "id": "95b4620d-6f4e-4cd5-be5a-a0331b1b28ae",
   "metadata": {},
   "outputs": [
    {
     "name": "stdout",
     "output_type": "stream",
     "text": [
      "Using log stream: AllTraffic/i-03069b578bd572554\n",
      "✅ Logs exported to /home/studio-lab-user/sagemaker-studiolab-notebooks/telco-customer-churn-pred/notebooks/cloudwatch_logs.txt\n"
     ]
    }
   ],
   "source": [
    "import subprocess\n",
    "import json\n",
    "\n",
    "endpoint_name = \"telco-churn-endpoint-v3\"\n",
    "log_group_name = f\"/aws/sagemaker/Endpoints/{endpoint_name}\"\n",
    "output_file = \"/home/studio-lab-user/sagemaker-studiolab-notebooks/telco-customer-churn-pred/notebooks/cloudwatch_logs.txt\"\n",
    "\n",
    "# Get latest log stream via describe-log-streams\n",
    "cmd_stream = [\n",
    "    \"aws\", \"logs\", \"describe-log-streams\",\n",
    "    \"--log-group-name\", log_group_name,\n",
    "    \"--order-by\", \"LastEventTime\",\n",
    "    \"--descending\",\n",
    "    \"--limit\", \"1\"\n",
    "]\n",
    "result = subprocess.run(cmd_stream, stdout=subprocess.PIPE)\n",
    "log_streams = json.loads(result.stdout.decode(\"utf-8\"))\n",
    "log_stream_name = log_streams[\"logStreams\"][0][\"logStreamName\"]\n",
    "\n",
    "print(f\"Using log stream: {log_stream_name}\")\n",
    "\n",
    "# Now fetch logs\n",
    "cmd_logs = [\n",
    "    \"aws\", \"logs\", \"get-log-events\",\n",
    "    \"--log-group-name\", log_group_name,\n",
    "    \"--log-stream-name\", log_stream_name,\n",
    "    \"--start-from-head\",\n",
    "    \"--output\", \"text\"\n",
    "]\n",
    "\n",
    "with open(output_file, \"w\") as f:\n",
    "    subprocess.run(cmd_logs, stdout=f)\n",
    "\n",
    "print(f\"✅ Logs exported to {output_file}\")\n"
   ]
  },
  {
   "cell_type": "code",
   "execution_count": 1,
   "id": "d56e5eb2-6346-4f1e-9cc7-a4a21b84724f",
   "metadata": {},
   "outputs": [
    {
     "name": "stdout",
     "output_type": "stream",
     "text": [
      "Endpoint name: telco-churn-endpoint-v3\n",
      "Status: Failed\n",
      "Creation time: 2025-08-31 23:46:42.145000+00:00\n",
      "Last modified: 2025-09-01 00:10:20.214000+00:00\n",
      "Failure reason: The primary container for production variant AllTraffic did not pass the ping health check. Please check CloudWatch logs for this endpoint.\n"
     ]
    }
   ],
   "source": [
    "import boto3\n",
    "\n",
    "# SageMaker client\n",
    "sm_client = boto3.client(\"sagemaker\")\n",
    "\n",
    "# Replace with your current endpoint name\n",
    "endpoint_name = \"telco-churn-endpoint-v3\"\n",
    "\n",
    "# Check status\n",
    "response = sm_client.describe_endpoint(EndpointName=endpoint_name)\n",
    "print(f\"Endpoint name: {response['EndpointName']}\")\n",
    "print(f\"Status: {response['EndpointStatus']}\")\n",
    "print(f\"Creation time: {response['CreationTime']}\")\n",
    "print(f\"Last modified: {response['LastModifiedTime']}\")\n",
    "if \"FailureReason\" in response:\n",
    "    print(f\"Failure reason: {response['FailureReason']}\")\n"
   ]
  },
  {
   "cell_type": "code",
   "execution_count": null,
   "id": "421478a1-6820-4785-b9cf-9ba2ff8bbe78",
   "metadata": {},
   "outputs": [],
   "source": []
  }
 ],
 "metadata": {
  "kernelspec": {
   "display_name": "default:Python",
   "language": "python",
   "name": "conda-env-default-py"
  },
  "language_info": {
   "codemirror_mode": {
    "name": "ipython",
    "version": 3
   },
   "file_extension": ".py",
   "mimetype": "text/x-python",
   "name": "python",
   "nbconvert_exporter": "python",
   "pygments_lexer": "ipython3",
   "version": "3.9.23"
  }
 },
 "nbformat": 4,
 "nbformat_minor": 5
}
